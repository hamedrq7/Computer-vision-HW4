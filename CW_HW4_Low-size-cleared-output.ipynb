{
 "cells": [
  {
   "cell_type": "code",
   "execution_count": null,
   "metadata": {
    "tags": []
   },
   "outputs": [],
   "source": [
    "from PIL import Image\n",
    "import numpy as np\n",
    "from numpy import asarray\n",
    "import matplotlib.pyplot as plt\n",
    "import matplotlib.image as mpimg\n",
    "import random\n",
    "import math\n",
    "from numpy.linalg import inv\n",
    "import matplotlib\n",
    "import cv2"
   ]
  },
  {
   "cell_type": "code",
   "execution_count": null,
   "metadata": {
    "tags": []
   },
   "outputs": [],
   "source": [
    "# hue range = [0, 360]\n",
    "# saturation range = [0, 1]\n",
    "# intensity range = [0, 256]\n",
    "def rgb_to_hsi(rgb):\n",
    "    hsi = np.zeros(rgb.shape)\n",
    "    n, m = rgb.shape[0:2]\n",
    "    max_num = 0\n",
    "    max_den = 0\n",
    "    max_arccos = np.arccos(-1)\n",
    "    \n",
    "    for x in range(n):\n",
    "        for y in range(m):\n",
    "            r, g, b = rgb[x][y].astype(np.int32)\n",
    "            sum_rgb = r+g+b\n",
    "\n",
    "            numerator = (r - g + r - b)/2\n",
    "            denominator = float(((r-g)**2 + (r-b)*(g-b)))**0.5\n",
    "            max_num = max(max_num, numerator)\n",
    "            max_den = max(max_den, denominator)\n",
    "\n",
    "            if numerator == 0:\n",
    "                theta = np.arccos(0)\n",
    "            else:\n",
    "                theta = np.arccos(numerator/denominator)\n",
    "                theta = theta/max_arccos * 180\n",
    "\n",
    "            if b <= g:\n",
    "                hsi[x][y][0] = theta\n",
    "            else:\n",
    "                hsi[x][y][0] = 360 - theta\n",
    "\n",
    "            if sum_rgb != 0:\n",
    "                hsi[x][y][1] = 1-(3*min(r, g, b)/sum_rgb)\n",
    "            else: \n",
    "                hsi[x][y][1] = 0\n",
    "\n",
    "            hsi[x][y][2] = sum_rgb/3\n",
    "\n",
    "    return hsi"
   ]
  },
  {
   "cell_type": "code",
   "execution_count": null,
   "metadata": {},
   "outputs": [],
   "source": [
    "def hsi_to_rgb(hsi):\n",
    "    # input hsi:\n",
    "    # hue range = [0, 360]\n",
    "    # saturation range = [0, 1]\n",
    "    # intensity range = [0, 256]\n",
    "    \n",
    "    rgb = np.zeros((hsi.shape))\n",
    "    n, m = rgb.shape[0:2]\n",
    "\n",
    "    for x in range(n):\n",
    "        for y in range(m):\n",
    "            h, s, i = hsi[x][y]\n",
    "            r = 0\n",
    "            g = 0\n",
    "            b = 0\n",
    "            \n",
    "            if h == 0:\n",
    "                r = i * (1 + 2 * s)\n",
    "                g = i * (1 - s)\n",
    "                b = i * (1 - s)\n",
    "                \n",
    "            # RG sector\n",
    "            elif h > 0 and h < 120:\n",
    "                b = i * (1 - s)\n",
    "                r = i * (1 + (s * np.cos(math.radians(h)) / np.cos(math.radians(60-h))))\n",
    "                g = (3 * i) - r - b\n",
    "            \n",
    "            elif h == 120:\n",
    "                r = i - i * s\n",
    "                g = i + 2 * i * s\n",
    "                b = i - i * s\n",
    "                \n",
    "            # GB sector\n",
    "            elif h > 120 and h < 240:\n",
    "                h = h - 120\n",
    "                r = i * (1 - s)\n",
    "                g = i * (1 + (s * np.cos(math.radians(h)) / np.cos(math.radians(60-h))))\n",
    "                b = (3 * i) - r - g\n",
    "                \n",
    "            elif h == 240:\n",
    "                r = i - i * s\n",
    "                g = i - i * s\n",
    "                b = i + 2 * i * s\n",
    "                \n",
    "            # BR sector\n",
    "            elif h >= 240 and h < 360:\n",
    "                h = h - 240\n",
    "                g = i * (1 - s)\n",
    "                b = i * (1 + ((s * np.cos(math.radians(h))) / np.cos(math.radians(60-h))))\n",
    "                r = (3 * i) - b - g\n",
    "            \n",
    "            rgb[x][y][0] = r\n",
    "            rgb[x][y][1] = g\n",
    "            rgb[x][y][2] = b\n",
    "    \n",
    "    r_max = np.amax(rgb[:, :, 0])\n",
    "    b_max = np.amax(rgb[:, :, 1])\n",
    "    g_max = np.amax(rgb[:, :, 2])\n",
    "    \n",
    "    # scale rgb to 0-255 (computed values in rgb CAN be bigger than 255)\n",
    "    #rgb[:, :, 0] = (rgb[:, :, 0]/r_max) * 255\n",
    "    #rgb[:, :, 1] = (rgb[:, :, 1]/g_max) * 255\n",
    "    #rgb[:, :, 2] = (rgb[:, :, 2]/b_max) * 255\n",
    "    \n",
    "    #### instead of scaling, cap it\n",
    "    np.clip(rgb[:, :, 0], 0, 255, out=rgb[:, :, 0])\n",
    "    np.clip(rgb[:, :, 1], 0, 255, out=rgb[:, :, 1])\n",
    "    np.clip(rgb[:, :, 2], 0, 255, out=rgb[:, :, 2])\n",
    "\n",
    "    \n",
    "    print(r_max, b_max, g_max)\n",
    "    return rgb.astype(np.uint8)\n",
    "    "
   ]
  },
  {
   "cell_type": "code",
   "execution_count": null,
   "metadata": {},
   "outputs": [],
   "source": [
    "def rgb_histogram(img_arr, title = \"RGB Histogram\", ignore_black=False):\n",
    "    r_map, g_map, b_map = rgb_map(img_arr, ignore_black)\n",
    "       \n",
    "    clw = 2\n",
    "    plt.figure(figsize=(20, 11))\n",
    "    plt.plot(r_map, color='r', label = 'Red', linewidth=clw)\n",
    "    plt.plot(g_map, color='g', label = 'Green', linewidth=clw)\n",
    "    plt.plot(b_map, color='b', label = 'Blue', linewidth=clw)\n",
    "\n",
    "    plt.title(title)\n",
    "    plt.ylabel(\"Count\")\n",
    "\n",
    "    plt.show()"
   ]
  },
  {
   "cell_type": "code",
   "execution_count": null,
   "metadata": {},
   "outputs": [],
   "source": [
    "def rgb_map(img_arr, ignore_black=False):\n",
    "    r_map = np.zeros(256)\n",
    "    g_map = np.zeros(256)\n",
    "    b_map = np.zeros(256)\n",
    "\n",
    "    if ignore_black:\n",
    "        for i in img_arr:\n",
    "            for j in i:\n",
    "                if j[0]!=0 and j[1]!=0 and j[2]!=0:\n",
    "                    r_map[j[0]] += 1\n",
    "                    g_map[j[1]] += 1\n",
    "                    b_map[j[2]] += 1\n",
    "    else:\n",
    "        for i in img_arr:\n",
    "            for j in i:\n",
    "                r_map[j[0]] += 1\n",
    "                g_map[j[1]] += 1\n",
    "                b_map[j[2]] += 1\n",
    "    \n",
    "    return r_map, g_map, b_map"
   ]
  },
  {
   "cell_type": "code",
   "execution_count": null,
   "metadata": {},
   "outputs": [],
   "source": [
    "def hsi_histogram(hsi):  \n",
    "    plt.figure(figsize=(20, 20))\n",
    "    plt.subplot(2, 2, 1)\n",
    "    plt.subplot(221),plt.hist(hsi[:, :, 0].flatten(), 75, facecolor='blue'), plt.title(\"Hue\")\n",
    "    plt.subplot(222),plt.hist(hsi[:, :, 1].flatten(), 75, facecolor='green'), plt.title(\"Saturation\")\n",
    "    plt.subplot(223),plt.hist(hsi[:, :, 2].flatten(), 255, facecolor='red'), plt.title(\"Intensity\")\n",
    "    plt.subplot(224),plt.imshow(hsi_to_rgb(hsi)), plt.title(\"Original Image\"), plt.axis('off')"
   ]
  },
  {
   "cell_type": "code",
   "execution_count": null,
   "metadata": {},
   "outputs": [],
   "source": [
    "def display_hsi(hsi):\n",
    "    plt.figure(figsize=(20, 20))\n",
    "    plt.subplot(2, 2, 1)\n",
    "    plt.subplot(221),plt.imshow(hsi[:,:,0].astype('uint8'), cmap='gray'), plt.title(\"Hue\"), plt.axis('off')\n",
    "    plt.subplot(222),plt.imshow(hsi[:,:,1], cmap='gray'), plt.title(\"Saturation\"), plt.axis('off')\n",
    "    plt.subplot(223),plt.imshow(hsi[:,:,2].astype('uint8'), cmap='gray'), plt.title(\"Intensity\"), plt.axis('off')\n",
    "    plt.subplot(224),plt.imshow(hsi_to_rgb(hsi)), plt.title(\"Original Image\"), plt.axis('off')"
   ]
  },
  {
   "cell_type": "markdown",
   "metadata": {},
   "source": [
    "# Q1"
   ]
  },
  {
   "cell_type": "markdown",
   "metadata": {},
   "source": [
    "## RGB image"
   ]
  },
  {
   "cell_type": "code",
   "execution_count": null,
   "metadata": {},
   "outputs": [],
   "source": [
    "rgb = cv2.imread('park.png', cv2.IMREAD_COLOR)[:,:,::-1]\n",
    "print(rgb.shape)\n",
    "plt.imshow(rgb)\n",
    "plt.show()"
   ]
  },
  {
   "cell_type": "markdown",
   "metadata": {},
   "source": [
    "## RGB histogram"
   ]
  },
  {
   "cell_type": "code",
   "execution_count": null,
   "metadata": {},
   "outputs": [],
   "source": [
    "rgb_histogram(rgb)"
   ]
  },
  {
   "cell_type": "markdown",
   "metadata": {},
   "source": [
    "## HSI conversion and HSI histogram"
   ]
  },
  {
   "cell_type": "code",
   "execution_count": null,
   "metadata": {},
   "outputs": [],
   "source": [
    "hsi = rgb_to_hsi(rgb)\n",
    "hsi_histogram(hsi)"
   ]
  },
  {
   "cell_type": "markdown",
   "metadata": {},
   "source": [
    "## Displaying HSI components"
   ]
  },
  {
   "cell_type": "code",
   "execution_count": null,
   "metadata": {},
   "outputs": [],
   "source": [
    "display_hsi(hsi)"
   ]
  },
  {
   "cell_type": "markdown",
   "metadata": {},
   "source": [
    "# Q2"
   ]
  },
  {
   "cell_type": "code",
   "execution_count": null,
   "metadata": {},
   "outputs": [],
   "source": [
    "rgb = cv2.imread('painting.jpg', cv2.IMREAD_COLOR)[:,:,::-1]\n",
    "print(rgb.shape)\n",
    "plt.imshow(rgb)\n",
    "plt.show()"
   ]
  },
  {
   "cell_type": "markdown",
   "metadata": {},
   "source": [
    "## HSI conversion"
   ]
  },
  {
   "cell_type": "code",
   "execution_count": null,
   "metadata": {},
   "outputs": [],
   "source": [
    "hsi = rgb_to_hsi(rgb)\n",
    "display_hsi(hsi)"
   ]
  },
  {
   "cell_type": "markdown",
   "metadata": {},
   "source": [
    "## Image Segementation in HSI color space"
   ]
  },
  {
   "cell_type": "markdown",
   "metadata": {},
   "source": [
    "### Binary saturation mask"
   ]
  },
  {
   "cell_type": "code",
   "execution_count": null,
   "metadata": {},
   "outputs": [],
   "source": [
    "# use saturation as a binary mask\n",
    "sat_mask = np.zeros((hsi.shape[0:2]))\n",
    "\n",
    "sat_mask[hsi[:, :, 1] > 0.5] = 1\n",
    "sat_mask[hsi[:, :, 1] <= 0.5] = 0\n",
    "plt.imshow(sat_mask, cmap='gray')"
   ]
  },
  {
   "cell_type": "markdown",
   "metadata": {},
   "source": [
    "### Red Mask \n",
    "product of Hue and Binary Saturation mask"
   ]
  },
  {
   "cell_type": "code",
   "execution_count": null,
   "metadata": {},
   "outputs": [],
   "source": [
    "hue = hsi[:, :, 0]\n",
    "red_mask = hue * sat_mask"
   ]
  },
  {
   "cell_type": "markdown",
   "metadata": {},
   "source": [
    "### Treshholding Red mask\n",
    "\n",
    "based on HSI color palette, Hue in range of [330 - 30] is RED."
   ]
  },
  {
   "cell_type": "code",
   "execution_count": null,
   "metadata": {},
   "outputs": [],
   "source": [
    "# treshholding red mask\n",
    "red_mask_tresh = np.zeros((red_mask.shape))\n",
    "tresh1 = 330 # 0 -> 360\n",
    "tresh2 = 30\n",
    "\n",
    "if tresh1 > tresh2:\n",
    "        red_mask_tresh = np.where(((red_mask >= tresh1)&(red_mask<360)) |\n",
    "                                  ((red_mask <= tresh2)&(red_mask>0)), 1, 0)\n",
    "else: \n",
    "    red_mask_tresh = np.where((red_mask >= tresh1) & (red_mask <= tresh2), 1, 0)\n",
    "\n",
    "#red_mask_tresh = red_mask_tresh.astype(np.uint8)"
   ]
  },
  {
   "cell_type": "markdown",
   "metadata": {},
   "source": [
    "### Segmentation of red component"
   ]
  },
  {
   "cell_type": "code",
   "execution_count": null,
   "metadata": {},
   "outputs": [],
   "source": [
    "red_segment = np.zeros((rgb.shape))\n",
    "red_segment[:, :, 0] = rgb[:, :, 0] * red_mask_tresh\n",
    "red_segment[:, :, 1] = rgb[:, :, 1] * red_mask_tresh\n",
    "red_segment[:, :, 2] = rgb[:, :, 2] * red_mask_tresh\n",
    "\n",
    "\n",
    "red_segment = red_segment.astype(np.uint8)\n",
    "\n",
    "plt.figure(figsize=(20, 20))\n",
    "plt.subplot(3, 2, 1)\n",
    "plt.subplot(321),plt.imshow(sat_mask, cmap='gray'), plt.title(\"Binary Saturation Mask\"), plt.axis('off')\n",
    "plt.subplot(322),plt.imshow(hue, cmap='gray'), plt.title(\"Hue\"), plt.axis('off')\n",
    "plt.subplot(323),plt.imshow(red_mask, cmap='gray'), plt.title(\"Red Mask, Prodoct of Hue and Binary Saturation mask\"), plt.axis('off')\n",
    "plt.subplot(324),plt.imshow(red_mask_tresh, cmap='gray'), plt.title(\"Red mask treshholded\"), plt.axis('off')\n",
    "plt.subplot(325),plt.imshow(red_segment), plt.title(\"Segmentation of red component\"), plt.axis('off')\n",
    "plt.subplot(326),plt.imshow(rgb), plt.title(\"Original Image\"), plt.axis('off')"
   ]
  },
  {
   "cell_type": "markdown",
   "metadata": {},
   "source": [
    "### Comparing Histograms"
   ]
  },
  {
   "cell_type": "code",
   "execution_count": null,
   "metadata": {},
   "outputs": [],
   "source": [
    "rgb_histogram(rgb, \"Original Image\"), rgb_histogram(red_segment, \"Red Segment\", True)"
   ]
  },
  {
   "cell_type": "markdown",
   "metadata": {},
   "source": [
    "## Color slicing in RGB space"
   ]
  },
  {
   "cell_type": "code",
   "execution_count": null,
   "metadata": {},
   "outputs": [],
   "source": [
    "def rgb_color_slice(rgb_c, img, w):\n",
    "    result = np.zeros((img.shape))\n",
    "    n, m = (img.shape[0:2])\n",
    "    \n",
    "    for x in range(n):\n",
    "        for y in range(m):\n",
    "            flag = True\n",
    "            for k in range(3):\n",
    "                if np.abs(img[x][y][k] - rgb_c[k]) > w/2:\n",
    "                    # not in the cube\n",
    "                    flag = False\n",
    "                    break\n",
    "            \n",
    "            if flag == True:\n",
    "                # in cube\n",
    "                for k in range(3):   \n",
    "                    result[x][y][k] = img[x][y][k]\n",
    "            else: \n",
    "                for k in range(3):   \n",
    "                    result[x][y][k] = 0\n",
    "                \n",
    "    return result"
   ]
  },
  {
   "cell_type": "code",
   "execution_count": null,
   "metadata": {},
   "outputs": [],
   "source": [
    "cs = rgb_color_slice([200, 30, 30], rgb, 150).astype(np.uint8)\n",
    "\n",
    "plt.figure(figsize=(20, 20))\n",
    "plt.subplot(1, 2, 1)\n",
    "plt.subplot(121),plt.imshow(rgb), plt.title(\"Original Image\"), plt.axis('off')\n",
    "plt.subplot(122),plt.imshow(cs), plt.title(\"Segmentation of red component using color slicing\"), plt.axis('off')"
   ]
  },
  {
   "cell_type": "markdown",
   "metadata": {},
   "source": [
    "### Comparing Histograms:"
   ]
  },
  {
   "cell_type": "code",
   "execution_count": null,
   "metadata": {},
   "outputs": [],
   "source": [
    "rgb_histogram(rgb, \"Original Image\"), rgb_histogram(cs, \"Red Segment, color Slicing\", True)"
   ]
  },
  {
   "cell_type": "markdown",
   "metadata": {},
   "source": [
    "# Q3"
   ]
  },
  {
   "cell_type": "code",
   "execution_count": null,
   "metadata": {},
   "outputs": [],
   "source": [
    "rgb = cv2.imread('test1.png', cv2.IMREAD_COLOR)[:,:,::-1]\n",
    "hsi = rgb_to_hsi(rgb)\n",
    "print(rgb.shape)\n",
    "plt.figure(figsize=(20, 20))\n",
    "plt.imshow(rgb)\n",
    "plt.show()"
   ]
  },
  {
   "cell_type": "markdown",
   "metadata": {},
   "source": [
    "## Gamma Adjustment"
   ]
  },
  {
   "cell_type": "code",
   "execution_count": null,
   "metadata": {},
   "outputs": [],
   "source": [
    "def gamma_adjustment(rgb, gamma, channel):\n",
    "    result = np.copy(rgb).astype(np.uint64) \n",
    "    result[:, :, channel] = result[:, :, channel] ** gamma\n",
    "    min_channel = np.amin(result[:, :, channel])\n",
    "    max_channel = np.amax(result[:, :, channel])\n",
    "    result[:, :, channel] = (result[:, :, channel] - min_channel) / (max_channel - min_channel) * 255\n",
    "    return result"
   ]
  },
  {
   "cell_type": "code",
   "execution_count": null,
   "metadata": {},
   "outputs": [],
   "source": [
    "channels = [0, 2]\n",
    "gammas = [0.5, 2]\n",
    "clw = 2\n",
    "\n",
    "plt.figure(figsize=(20, 25))\n",
    "plt.subplot(4, 3, 1)\n",
    "plt.tight_layout(pad=3.00)\n",
    "index = 0\n",
    "for channel in channels:\n",
    "    for gamma in gammas:\n",
    "        index+=1\n",
    "        plt.subplot(4, 3, index),plt.imshow(rgb), plt.title('Original Image'), plt.axis('off')\n",
    "        \n",
    "        index+=1\n",
    "                                                          \n",
    "        g_adj = gamma_adjustment(rgb, gamma, channel)\n",
    "        plt.subplot(4, 3, index),plt.imshow(g_adj), plt.title('Gamma adj, on Band {}, gamma = {}'.format(channel, gamma)), plt.axis('off')\n",
    "        index+=1\n",
    "        r_map, g_map, b_map = rgb_map(g_adj)\n",
    "        plt.subplot(4, 3, index),plt.plot(r_map, color='r', label = 'Red', linewidth=clw), plt.plot(g_map, color='g', label = 'Green', linewidth=clw), plt.plot(b_map, color='b', label = 'Blue', linewidth=clw)\n",
    "        \n",
    "\n",
    "plt.show()"
   ]
  },
  {
   "cell_type": "markdown",
   "metadata": {},
   "source": [
    "## Saturation Adjustment"
   ]
  },
  {
   "cell_type": "code",
   "execution_count": null,
   "metadata": {},
   "outputs": [],
   "source": [
    "def saturation_adjustment(hsi, sat_adj):\n",
    "    res = hsi.copy()\n",
    "    res[:, :, 1] = res[:, :, 1] * (1 + sat_adj/100)\n",
    "    np.clip(res[:, :, 1], 0, 1, out=res[:, :, 1])\n",
    "    print(np.amax(res[:, :, 1]))\n",
    "    return res"
   ]
  },
  {
   "cell_type": "code",
   "execution_count": null,
   "metadata": {},
   "outputs": [],
   "source": [
    "sat_weights = [25, -25, 50, -50, 100, -100]\n",
    "clw = 2\n",
    "\n",
    "plt.figure(figsize=(20, 36))\n",
    "plt.subplot(6, 3, 1)\n",
    "plt.tight_layout(pad=3.00)\n",
    "\n",
    "index = 0\n",
    "for sat_w in sat_weights:\n",
    "    index+=1\n",
    "    plt.subplot(6, 3, index), plt.imshow(rgb), plt.title('Original Image'), plt.axis('off')\n",
    "    index+=1\n",
    "\n",
    "    sat_adj_res = saturation_adjustment(hsi, sat_w)\n",
    "    \n",
    "    rgb_sat_adj = hsi_to_rgb(sat_adj_res)\n",
    "    plt.subplot(6, 3, index),plt.imshow(rgb_sat_adj), plt.title('Saturation adj, weight = {}'.format(sat_w)), plt.axis('off')\n",
    "    index+=1\n",
    "    r_map, g_map, b_map = rgb_map(rgb_sat_adj)\n",
    "    plt.subplot(6, 3, index),plt.plot(r_map, color='r', label = 'Red', linewidth=clw), plt.plot(g_map, color='g', label = 'Green', linewidth=clw), plt.plot(b_map, color='b', label = 'Blue', linewidth=clw)\n",
    "\n",
    "\n",
    "plt.show()"
   ]
  },
  {
   "cell_type": "markdown",
   "metadata": {},
   "source": [
    "## Hue Shifting"
   ]
  },
  {
   "cell_type": "code",
   "execution_count": null,
   "metadata": {},
   "outputs": [],
   "source": [
    "def hue_shifting(hsi, degree):\n",
    "    res = hsi.copy()\n",
    "    res[:, :, 0] = (res[:, :, 0] + degree) % 360\n",
    "    print(np.amax(res[:, :, 0]), np.amin(res[:, :, 0]))\n",
    "    return res"
   ]
  },
  {
   "cell_type": "code",
   "execution_count": null,
   "metadata": {},
   "outputs": [],
   "source": [
    "hue_shifts = [60, 120, 180, 240, 300, 360]\n",
    "clw = 2\n",
    "\n",
    "plt.figure(figsize=(20, 36))\n",
    "plt.subplot(6, 3, 1)\n",
    "plt.tight_layout(pad=3.00)\n",
    "\n",
    "index = 0\n",
    "for hue_s in hue_shifts:\n",
    "    index+=1\n",
    "    plt.subplot(6, 3, index), plt.imshow(rgb), plt.title('Original Image'), plt.axis('off')\n",
    "    index+=1\n",
    "\n",
    "    hue_shift_res = hue_shifting(hsi, hue_s)\n",
    "    \n",
    "    rgb_hue_shift = hsi_to_rgb(hue_shift_res)\n",
    "    plt.subplot(6, 3, index),plt.imshow(rgb_hue_shift), plt.title('Hue Shiftin {}'.format(hue_s)), plt.axis('off')\n",
    "    index+=1\n",
    "    r_map, g_map, b_map = rgb_map(rgb_hue_shift)\n",
    "    plt.subplot(6, 3, index),plt.plot(r_map, color='r', label = 'Red', linewidth=clw), plt.plot(g_map, color='g', label = 'Green', linewidth=clw), plt.plot(b_map, color='b', label = 'Blue', linewidth=clw)\n",
    "\n",
    "\n",
    "plt.show()"
   ]
  }
 ],
 "metadata": {
  "kernelspec": {
   "display_name": "Python 3",
   "language": "python",
   "name": "python3"
  },
  "language_info": {
   "codemirror_mode": {
    "name": "ipython",
    "version": 3
   },
   "file_extension": ".py",
   "mimetype": "text/x-python",
   "name": "python",
   "nbconvert_exporter": "python",
   "pygments_lexer": "ipython3",
   "version": "3.7.13"
  }
 },
 "nbformat": 4,
 "nbformat_minor": 4
}
